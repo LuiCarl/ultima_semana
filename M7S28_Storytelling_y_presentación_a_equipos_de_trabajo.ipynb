{
  "nbformat": 4,
  "nbformat_minor": 0,
  "metadata": {
    "colab": {
      "provenance": []
    },
    "kernelspec": {
      "name": "python3",
      "display_name": "Python 3"
    },
    "language_info": {
      "name": "python"
    }
  },
  "cells": [
    {
      "cell_type": "markdown",
      "source": [
        "# **Bootcamp: Ciencia de Datos e Inteligencia Artificial**\n",
        "# **Módulo 7. Técnicas avanzadas para ciencia de datos y empleabilidad**\n",
        "## **Semana 28. Storytelling y presentación a equipos de trabajo**\n",
        "\n",
        "¡Hola! Te damos la bienvenida a la última parte de esta aventura, en la que conocerás la definición y uso del *storytelling*, estrategias para presentar proyectos, así como herramientas y habilidades que pueden mejorar tu experiencia como *Data Scientist*.\n",
        "\n",
        "Aprovecha estos últimos consejos para lucirte con tu presentación el día de la clase.\n",
        "\n",
        "¡Éxito!"
      ],
      "metadata": {
        "id": "Aux6RQZ3UuT1"
      }
    },
    {
      "cell_type": "markdown",
      "source": [
        "## Storytelling y presentación a equipos de trabajo\n",
        "\n",
        "Hasta es punto sabes qué es la Ciencia de Datos, sabes hacer modelos y aplicarlos, pero quizás tengas preguntas acerca de un ámbito más administrativo, por ejemplo: si estás trabajando en una empresa, ¿cómo convencer a la dirección de invertir en un departamento de ciencia de datos?, ¿cómo muestras tus hallazgos a los demás colaboradores?, ¿cómo defiendes un modelo predictivo o de clasficación ante alguien que no sabe de matemáticas?\n",
        "\n",
        "Bueno, en este caso empleamos el _storytelling_, técnica que se refiere al proceso de contar una historia o narrativa a partir de los datos recopilados. Esto implica seleccionarlos, limpiarlos y analizarlos para luego presentarlos de manera clara y concisa utilizando gráficos, tablas y otros medios visuales para ilustrar los hallazgos y conclusiones. El objetivo de utilizar el _storytelling_ es comunicar de manera efectiva los hallazgos y conclusiones del análisis a un público no técnico, para ayudarlo a entender y tomar decisiones basadas en los datos, sobre todo cuando ese público objetivo no comprende las definiciones o métodos técnicos.\n",
        "\n",
        "El _storytelling_ tiene muchas formas de visualización, pero por lo general se hace en forma de presentación, como lo haces en la escuela con diapositivas o en un escrito técnico, como seguro has visto en algunos periódicos sobre alguna investigación. Otro método en auge es el video: algunos documentales han seguido esta narrativa partiendo del conocimiento de su audiencia y el punto que quieren mostrar.\n",
        "\n",
        "No existe una plantilla o método fijo, pero sí una serie de recomendaciones.\n",
        "\n"
      ],
      "metadata": {
        "id": "NtK1Bo_9YGhi"
      }
    },
    {
      "cell_type": "markdown",
      "source": [
        "### Conoce a tu público objetivo\n",
        "\n",
        "Es cierto: entiendes las fórmulas matemáticas para explicar la regresión logística, entiendes qué es y cómo se calcula el gradiente descendiente y sabes cómo se cálculan las medidas estadísticas básicas como la media, la moda y la mediana. Sin embargo, la realidad es que en ocasiones tu público no lo entenderá, al menos no en el primer intento. Tratar de explicar el funcionamiento matemático puede no ser siempre la mejor estrategia. En el _storytelling_ el objetivo es vender tu idea o investigación con un primer impacto.\n",
        "\n",
        "Si trabajas en una empresa que vende un artículo determinado y quieres mostrar tus investigaciones y modelos al equipo gerencial, deberás comprender que quienes cubren esas posiciones deben cubrir un perfil administrativo, por lo que tu narrativa debe ajustarse a ese enfoque.\n",
        "\n",
        "Si deseas mostrar los resultados con un aspecto monetario a un área donde está involucrado un FCO (director de Finanzas), entonces tendrás que usar un lenguaje fácil de entender por tu receptor.\n",
        "\n",
        "Lo mismo sucede si quieres mostrar tus resultados a Marketing o al equipo de Mantenimiento: si no comprendes su lenguaje, será necesario que estudies un poco del tema. Recuerda: el _storytelling_ busca impactar desde la primera impresión. Además, lo más difícil es entender y aplicar ciencia de datos, y esto ya lo dominas; el resto es más sencillo.\n",
        "\n",
        "Por otro lado, el _storytelling_ no solo está dirigido al ámbito empresarial o comercial; este puede extenderse al académico, al deportivo o al público en general. En este último caso, la estrategia es similar a lo que hacen los reporteros de investigación: muchos de quienes reciben tus análisis podrían no saber nada de ningún tema, pero bastará con dar una breve pero comprensible explicación de los ejes centrales de tu investigación, sin necesidad de llegar a explicaciones técnicas."
      ],
      "metadata": {
        "id": "mXXuC2YNdaKO"
      }
    },
    {
      "cell_type": "markdown",
      "source": [
        "### Determina qué quieres comunicar\n",
        "\n",
        "Al presentar un proyecto, debes tener claro cuál es el objetivo de mostrar los datos y modelos; no es lo mismo tratar de convencer para adquirir una máquina que haría más eficiente un trabajo, advertir sobre un problema que puede empeorar o decrecer o sencillamente tener el objetivo de ser seleccionado en una entrevista de trabajo.\n",
        "\n",
        "Como es lógico, este punto va de la mano de los objetivos personales u organizacionales. En ocasiones, podrás averiguar si alguna hipótesis tiene como resultado algo en contra de lo que buscas mostrar, por lo que permitirá que cambies tus estrategias o el enfoque de tu investigación."
      ],
      "metadata": {
        "id": "45VzySEVhG-A"
      }
    },
    {
      "cell_type": "markdown",
      "source": [
        "### Identifica solo los datos necesarios\n",
        "\n",
        "Como habrás observado durante este curso, muchas características pueden alimentar un modelo de ciencia de datos. Y aunque tener muchas características (_features_) podría derivar, en ocasiones, en un resultado acertado, la realidad es que muchos de esos datos no son tan importantes para tu audiencia, por lo que podrías mencionarlos, pero será necesario que identifiques cuáles son los más importantes dependiendo de tu público objetivo y de lo que quieres transmitir.\n",
        "\n",
        "Mostrar datos para los cuales tu público no está preparado, y que pretende comprender, puede distraerlos de lo que intentas comunicar. Como ya lo mencionamos, es bueno explicar el dato, pero solo de forma breve."
      ],
      "metadata": {
        "id": "7x04c1vosuZu"
      }
    },
    {
      "cell_type": "markdown",
      "source": [
        "### Grafica adecuadamente\n",
        "\n",
        "Por naturaleza es difícil para el ser humano comprender una característica solo con números, lo recomendable es reforzar un dato que se ha explorado o el resultado de un análisis con un gráfico. Estos son fáciles de procesar, siempre y cuando contengan la información suficiente para ser interpretados. Si tus datos se presentan de manera ineficaz, se pierden conocimientos clave.\n",
        "\n",
        "Para que nuestras audiencias comprendan de manera más fácil, puedes mostrar:\n",
        "- Tendencias\n",
        "- Correlaciones\n",
        "- Valores atípicos (_outliers_)\n",
        "\n",
        "#### Tipos de datos relacionados\n",
        "\n",
        "- **Comparación nominal**. Son comparaciones de valores cuantitativos dentro de un subconjunto, por ejemplo, la cantidad de estudiantes aprobados de una asignatura específica.\n",
        "- **Series de tiempo**. Son los cambios de un cierto valor a lo largo de un periodo (temporal), por ejemplo, el valor de una acción.\n",
        "- **Correlación**. Estos datos contienen dos o más variables y cómo ambas se comportan de forma relacionada, ya sea de manera positiva o negativa, por ejemplo: el salario acorde al nivel de estudios.\n",
        "- **Ranking**. Muestra la métrica de dos o más elementos que se comparan entre sí analizando una de sus características en común. Por ejemplo: qué sucursal ha vendido más de un producto específico en un mes y año determinado.\n",
        "- **Distribución**. Estos datos muestran la distribución de una medida, por lo general, alrededor de un punto central. La estatura de los integrantes de un equipo de futbol es un ejemplo.\n",
        "- **Relaciones de una parte en todo**. Son datos que muestran la manera en que cada elemento se relaciona con el conjunto de información, por ejemplo: cualquier diagrama de pastel que indica el porcentaje de participación de un elemento y cuya suma de sus conjuntos es de 100 %.\n",
        "\n"
      ],
      "metadata": {
        "id": "zrQu37EVukvE"
      }
    },
    {
      "cell_type": "markdown",
      "source": [
        "### Diseño profesional\n",
        "\n",
        "Debes aplicar este aspecto a tu estilo de trabajo. Cuando hagas una presentación o un documento, este deberá tener un diseño único y uniforme.\n",
        "\n",
        "Puntos como el tipo de fuente, los colores, estilos, márgenes, diseño de las tablas, incluso el idioma, deben estar presentes desde antes de hacer el trabajo final, por lo tanto, es necesario que estos diseños también formen parte de tus gráficas. Ningún elemento debe estar «fuera de lugar» o lucir ajeno."
      ],
      "metadata": {
        "id": "O1p3B09PrD6L"
      }
    },
    {
      "cell_type": "markdown",
      "source": [
        "## ¿Qué sigue?\n",
        "\n",
        "El mercado laboral es cada día más competitivo. Un científico de datos no debe quedarse atrás: deberá mejorar sus habilidades de programación y de uso de herramientas propias de la industria.\n",
        "\n",
        "Toma en cuenta las siguientes sugerencias para aumentar tus probabilidades de contratación en este ámbito:\n",
        "\n",
        "- **Programación orientada a objetos (POO)**. Podemos decir que este es un paso para profesionalizar tus conocimientos en Python. Durante el curso usamos **Google Colab**, pero en muchas empresas prefieren integrar tus conocimientos con otras áreas para el despliegue de algún proyecto. La POO permite que un grupo de personas trabaje en el mismo proyecto sin estorbarse, esto facilita la división del trabajo y la solución de problemas.\n",
        "\n",
        "- **Git y GitHub**. Esta herramienta suele usarse para compartir un portafolio de trabajo, sin embargo, tiene muchas utilidades en la programación en general:\n",
        "  - Control de versiones: permite a los usuarios mantener un registro de los cambios en el código y los recursos relacionados con el análisis de datos.\n",
        "\n",
        "  - Colaboración: permite a los usuarios trabajar en proyectos de manera colaborativa, lo que facilita la revisión de código, la discusión de hallazgos y la toma de decisiones.\n",
        "\n",
        "  - Integración con herramientas de análisis: GitHub se puede integrar con herramientas de análisis como Jupyter Notebook, RStudio y muchas otras.\n",
        "\n",
        "  - Compartir código: permite a los científicos de datos compartir su código y _scripts_ con otros científicos de datos, lo que facilita la reproducción y validación de los resultados.\n",
        "\n",
        "  - Alojar y compartir data: permite alojar y compartir los datos que se utilizan en el análisis, lo que facilita la reproducción y validación de los resultados.\n",
        "\n",
        "- **R**. Este es un lenguaje de programación que se usa principalmente en la investigación estadística en las universidades, sin embargo, su naturaleza enfocada a las matemáticas la convirtió en uno de los primeros lenguajes usados para la ciencia de datos. Si bien es cierto que Python está creciendo en este ámbito y existe un desapego del uso de R, la realidad es que sigue siendo un lenguaje muy querido por su comunidad, incluso, empresas y organizaciones aún piden su uso.\n",
        "\n",
        "- **SQL**. Aunque la mayoría de las organizaciones ya tiene grandes bases de datos, valdría la pena conocer las herramientas para acceder y manipular esta información; de hecho, es uno de los elementos más solicitados en las nuevas posiciones de trabajo para científicos de datos.\n",
        "\n",
        "- **Matemáticas**. En este curso se explicó de forma muy sencilla el funcionamiento de los modelos, cuya ejecución es muy sencilla en Python, sin embargo, valdría la pena que comprendas cómo funcionan de fondo estos cálculos. Para ello, deberás estudiar principalmente álgebra lineal, cálculo diferencial y estadística aplicada.\n",
        "\n",
        "- **Keras**. Son una serie de herramientas que se usan para el análisis de _Big Data_, es decir, el conjunto inmenso de datos, que pueden pesar terabytes. Aunque no todas las empresas lo usan, es realmente bueno tener en cuenta esta herramienta para posiciones muy especializadas y, por lo tanto, mejor pagadas.\n",
        "\n",
        "- **Power Bi** y **Tableau**. Valdría muchísimo la pena saber usar esta herramienta debido a su facilidad de uso y al creciente interés de los directivos por usar programas como este."
      ],
      "metadata": {
        "id": "SK-_qBVBqoo4"
      }
    },
    {
      "cell_type": "markdown",
      "source": [
        "## Tu presentación\n",
        "\n",
        "Es importante que la presentación de tu proyecto final contenga varios de los aspectos siguientes:\n",
        "\n",
        "1. Indica una pregunta y qué es lo que resolvería tu modelo.\n",
        "2. Haz una explicación de lo que vas a hacer, enfocada a personas que no saben de ciencia de datos; recuerda que puedes usar diagramas y que ser excesivamente técnico puede distraer a tu audiencia del objetivo.\n",
        "3. Explica lo que significan los datos que se estudiarán. No es necesario ser muy técnico, solo dar una breve introducción para saber cómo se manejan.\n",
        "4. Deberás incluir gráficos que respalden tus exploraciones y resultados, estos deberán ser fácilmente interpretables, no deben estar sobresaturados y es importante señalar qué quieres decir con cada línea, color o elemento; puedes auxiliarte de leyendas, colores o elementos del gráfico. Recuerda: tu público no puede conocer aspectos técnicos.\n",
        "5. Vende tu idea (aplica _storytelling_): explica por qué es útil, qué futuro podrías darle a tu modelo o por qué podría ser útil. Un objetivo no solo es para ganar o ahorrar dinero, también incluye el impacto social, psicológico o conocer qué sucederá para tomar cartas en un asunto concreto."
      ],
      "metadata": {
        "id": "ZazPc6XD5UQ-"
      }
    },
    {
      "cell_type": "markdown",
      "source": [
        "## Próximos pasos\n",
        "Llegamos al cierre de la semana 28. Esperamos que todo lo aprendido te sirva para adentrarte con mayor profundidad en el mundo de la ciencia de datos y avanzar en tu camino como *Data Scientist*.\n",
        "\n",
        "Aprovecha al máximo la retroalimentación experta en el _demo day_ y avanza hacia tus objetivos.\n",
        "\n",
        "¡Sueña en grande!"
      ],
      "metadata": {
        "id": "7u0rW5mSVrKP"
      }
    }
  ]
}
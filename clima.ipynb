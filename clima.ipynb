{
 "cells": [
  {
   "cell_type": "code",
   "execution_count": 1,
   "metadata": {},
   "outputs": [],
   "source": [
    "import requests"
   ]
  },
  {
   "cell_type": "code",
   "execution_count": 2,
   "metadata": {},
   "outputs": [],
   "source": [
    "latitud = 44.10\n",
    "longitud = 10.99\n",
    "nombre_ciudad = 'Mexico City'\n",
    "api_key = 'e9566f251309844ff8b08373c0eb261a'"
   ]
  },
  {
   "cell_type": "code",
   "execution_count": 3,
   "metadata": {},
   "outputs": [],
   "source": [
    "url_coord = f\"https://api.openweathermap.org/data/2.5/weather?lat={latitud}&lon={longitud}&appid={api_key}\"\n",
    "url_ciudad = f\"https://api.openweathermap.org/data/2.5/weather?q={nombre_ciudad}&appid={api_key}&units=metric&lang=sp\""
   ]
  },
  {
   "cell_type": "code",
   "execution_count": 7,
   "metadata": {},
   "outputs": [],
   "source": [
    "respuesta = requests.get(url_ciudad)"
   ]
  },
  {
   "cell_type": "code",
   "execution_count": 8,
   "metadata": {},
   "outputs": [
    {
     "data": {
      "text/plain": [
       "200"
      ]
     },
     "execution_count": 8,
     "metadata": {},
     "output_type": "execute_result"
    }
   ],
   "source": [
    "respuesta.status_code"
   ]
  },
  {
   "cell_type": "code",
   "execution_count": 9,
   "metadata": {},
   "outputs": [
    {
     "data": {
      "text/plain": [
       "{'coord': {'lon': -99.1277, 'lat': 19.4285},\n",
       " 'weather': [{'id': 802,\n",
       "   'main': 'Clouds',\n",
       "   'description': 'nubes dispersas',\n",
       "   'icon': '03n'}],\n",
       " 'base': 'stations',\n",
       " 'main': {'temp': 23.02,\n",
       "  'feels_like': 22.32,\n",
       "  'temp_min': 19.25,\n",
       "  'temp_max': 23.39,\n",
       "  'pressure': 1018,\n",
       "  'humidity': 36},\n",
       " 'visibility': 10000,\n",
       " 'wind': {'speed': 3.09, 'deg': 200},\n",
       " 'clouds': {'all': 40},\n",
       " 'dt': 1710907921,\n",
       " 'sys': {'type': 2,\n",
       "  'id': 47729,\n",
       "  'country': 'MX',\n",
       "  'sunrise': 1710852058,\n",
       "  'sunset': 1710895634},\n",
       " 'timezone': -21600,\n",
       " 'id': 3530597,\n",
       " 'name': 'Mexico City',\n",
       " 'cod': 200}"
      ]
     },
     "execution_count": 9,
     "metadata": {},
     "output_type": "execute_result"
    }
   ],
   "source": [
    "datos = respuesta.json()\n",
    "datos"
   ]
  },
  {
   "cell_type": "code",
   "execution_count": 10,
   "metadata": {},
   "outputs": [
    {
     "name": "stdout",
     "output_type": "stream",
     "text": [
      "Las coordenadas de la ciudad de Mexico City son: {'lon': -99.1277, 'lat': 19.4285}\n",
      "La temperatura en la ciudad de Mexico City es: 23.02\n",
      "El clima en la ciudad de Mexico City es: nubes dispersas\n"
     ]
    }
   ],
   "source": [
    "print(f'Las coordenadas de la ciudad de {nombre_ciudad} son: {datos[\"coord\"]}')\n",
    "print(f'La temperatura en la ciudad de {nombre_ciudad} es: {datos[\"main\"][\"temp\"]}')\n",
    "print(f'El clima en la ciudad de {nombre_ciudad} es: {datos[\"weather\"][0][\"description\"]}')"
   ]
  }
 ],
 "metadata": {
  "kernelspec": {
   "display_name": "py11",
   "language": "python",
   "name": "python3"
  },
  "language_info": {
   "codemirror_mode": {
    "name": "ipython",
    "version": 3
   },
   "file_extension": ".py",
   "mimetype": "text/x-python",
   "name": "python",
   "nbconvert_exporter": "python",
   "pygments_lexer": "ipython3",
   "version": "3.11.2"
  }
 },
 "nbformat": 4,
 "nbformat_minor": 2
}
